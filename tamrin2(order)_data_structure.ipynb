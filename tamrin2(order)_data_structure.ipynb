{
  "nbformat": 4,
  "nbformat_minor": 0,
  "metadata": {
    "colab": {
      "provenance": [],
      "authorship_tag": "ABX9TyOgoplBBr6AarTPYQP1TnhF",
      "include_colab_link": true
    },
    "kernelspec": {
      "name": "python3",
      "display_name": "Python 3"
    },
    "language_info": {
      "name": "python"
    }
  },
  "cells": [
    {
      "cell_type": "markdown",
      "metadata": {
        "id": "view-in-github",
        "colab_type": "text"
      },
      "source": [
        "<a href=\"https://colab.research.google.com/github/40116341054071/Order_time2/blob/main/tamrin2(order)_data_structure.ipynb\" target=\"_parent\"><img src=\"https://colab.research.google.com/assets/colab-badge.svg\" alt=\"Open In Colab\"/></a>"
      ]
    },
    {
      "cell_type": "code",
      "execution_count": null,
      "metadata": {
        "colab": {
          "base_uri": "https://localhost:8080/"
        },
        "id": "aMQ-IRo8dsa1",
        "outputId": "48fd14d5-4b0b-47d8-a14e-16b3817c13ee"
      },
      "outputs": [
        {
          "output_type": "stream",
          "name": "stdout",
          "text": [
            "False\n",
            "0:00:00.000214\n"
          ]
        }
      ],
      "source": [
        "import datetime\n",
        "import random\n",
        "s=[random.randint(10,100) for i in range (1000000)]\n",
        "start=datetime.datetime.now()\n",
        "def unique(s):\n",
        "    n=len(s)\n",
        "    for i in range (n):\n",
        "        for j in range (i+1,n):\n",
        "            if s[i]==s[j]:\n",
        "                return False\n",
        "    else:\n",
        "        return True\n",
        "y=unique(s)\n",
        "end=datetime.datetime.now()\n",
        "print(y)\n",
        "print(end-start)"
      ]
    }
  ]
}